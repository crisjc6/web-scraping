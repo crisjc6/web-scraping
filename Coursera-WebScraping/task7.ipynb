{
 "cells": [
  {
   "cell_type": "markdown",
   "metadata": {},
   "source": [
    "# Authenticate and mantain connections through cookies and sessions\n",
    "\n",
    "Reference notebook for the last task of the Web Scraping with Python and BeautifulSoup on Coursera.\n",
    "\n",
    "Instructor: Danilo Lessa Bernardineli (https://danlessa.github.io/)"
   ]
  },
  {
   "cell_type": "markdown",
   "metadata": {},
   "source": [
    "## Link\n",
    "\n",
    "http://testing-ground.scraping.pro/login"
   ]
  },
  {
   "cell_type": "code",
   "execution_count": null,
   "metadata": {},
   "outputs": [],
   "source": []
  },
  {
   "cell_type": "code",
   "execution_count": 1,
   "metadata": {},
   "outputs": [],
   "source": [
    "import requests as req\n",
    "\n",
    "link = 'http://testing-ground.scraping.pro/login'"
   ]
  },
  {
   "cell_type": "code",
   "execution_count": 2,
   "metadata": {},
   "outputs": [],
   "source": [
    "from bs4 import BeautifulSoup\n",
    "\n",
    "LOGGED_SELECTOR = '#case_login > h3'\n",
    "\n",
    "def is_logged(html_source):\n",
    "    soup = BeautifulSoup(html_source)\n",
    "    elements = soup.select(LOGGED_SELECTOR)\n",
    "    if len(elements) == 1:\n",
    "        element = elements[0]\n",
    "        if 'success' in element.get('class', []):\n",
    "            return True\n",
    "        else:\n",
    "            return False\n",
    "    elif len(elements) > 1:\n",
    "        raise Exception('Something is wrong with the source')\n",
    "    else:\n",
    "        return False"
   ]
  },
  {
   "cell_type": "code",
   "execution_count": 10,
   "metadata": {},
   "outputs": [
    {
     "data": {
      "text/plain": [
       "False"
      ]
     },
     "execution_count": 10,
     "metadata": {},
     "output_type": "execute_result"
    }
   ],
   "source": [
    "input_data = {\"usr\": \"admin\", \"pwd\": \"12345\"}\n",
    "r_post = req.post(link + \"?mode=login\", input_data)\n",
    "r_get = req.get(link + \"?mode=welcome\")\n",
    "is_logged(r_get.content)"
   ]
  },
  {
   "cell_type": "code",
   "execution_count": 11,
   "metadata": {},
   "outputs": [
    {
     "data": {
      "text/plain": [
       "True"
      ]
     },
     "execution_count": 11,
     "metadata": {},
     "output_type": "execute_result"
    }
   ],
   "source": [
    "input_data = {\"usr\": \"admin\", \"pwd\": \"12345\"}\n",
    "r_post = req.post(link + \"?mode=login\", input_data)\n",
    "is_logged(r_post.content)"
   ]
  },
  {
   "cell_type": "code",
   "execution_count": 12,
   "metadata": {},
   "outputs": [
    {
     "data": {
      "text/plain": [
       "True"
      ]
     },
     "execution_count": 12,
     "metadata": {},
     "output_type": "execute_result"
    }
   ],
   "source": [
    "input_data = {\"usr\": \"admin\", \"pwd\": \"12345\"}\n",
    "s = req.Session()\n",
    "r_post = s.post(link + \"?mode=login\", input_data)\n",
    "r_get = s.get(link + \"?mode=welcome\")\n",
    "is_logged(r_get.content)"
   ]
  },
  {
   "cell_type": "code",
   "execution_count": 13,
   "metadata": {},
   "outputs": [
    {
     "data": {
      "text/plain": [
       "True"
      ]
     },
     "execution_count": 13,
     "metadata": {},
     "output_type": "execute_result"
    }
   ],
   "source": [
    "r_get = s.get(link + \"?mode=welcome\")\n",
    "is_logged(r_get.content)"
   ]
  }
 ],
 "metadata": {
  "kernelspec": {
   "display_name": "Python 3",
   "language": "python",
   "name": "python3"
  },
  "language_info": {
   "codemirror_mode": {
    "name": "ipython",
    "version": 3
   },
   "file_extension": ".py",
   "mimetype": "text/x-python",
   "name": "python",
   "nbconvert_exporter": "python",
   "pygments_lexer": "ipython3",
   "version": "3.6.9"
  }
 },
 "nbformat": 4,
 "nbformat_minor": 4
}
