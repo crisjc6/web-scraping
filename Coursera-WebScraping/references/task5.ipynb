{
 "cells": [
  {
   "cell_type": "markdown",
   "metadata": {},
   "source": [
    "# Use CSS selectors for searching complex patterns\n",
    "\n",
    "Reference notebook for the fifth task of the Web Scraping with Python and BeautifulSoup on Coursera.\n",
    "\n",
    "Instructor: Danilo Lessa Bernardineli (https://danlessa.github.io/)"
   ]
  },
  {
   "cell_type": "markdown",
   "metadata": {},
   "source": [
    "## Link\n",
    "\n",
    "https://pt.wikipedia.org/wiki/Rond%C3%B4nia"
   ]
  },
  {
   "cell_type": "code",
   "execution_count": 2,
   "metadata": {},
   "outputs": [],
   "source": [
    "import requests as req\n",
    "from bs4 import BeautifulSoup\n",
    "\n",
    "URL = 'https://pt.wikipedia.org/wiki/Rond%C3%B4nia'\n",
    "r = req.get(URL)\n",
    "soup = BeautifulSoup(r.content)"
   ]
  },
  {
   "cell_type": "code",
   "execution_count": 3,
   "metadata": {},
   "outputs": [],
   "source": [
    "selector = 'div.thumb:nth-child(49) > div:nth-child(1) > a:nth-child(1) > img:nth-child(1)'"
   ]
  },
  {
   "cell_type": "code",
   "execution_count": 4,
   "metadata": {},
   "outputs": [
    {
     "data": {
      "text/plain": [
       "[<img alt=\"\" class=\"thumbimage\" data-file-height=\"3000\" data-file-width=\"4000\" decoding=\"async\" height=\"165\" src=\"//upload.wikimedia.org/wikipedia/commons/thumb/9/97/Flona_Jamari.jpg/220px-Flona_Jamari.jpg\" srcset=\"//upload.wikimedia.org/wikipedia/commons/thumb/9/97/Flona_Jamari.jpg/330px-Flona_Jamari.jpg 1.5x, //upload.wikimedia.org/wikipedia/commons/thumb/9/97/Flona_Jamari.jpg/440px-Flona_Jamari.jpg 2x\" width=\"220\"/>]"
      ]
     },
     "execution_count": 4,
     "metadata": {},
     "output_type": "execute_result"
    }
   ],
   "source": [
    "soup.select(selector)"
   ]
  },
  {
   "cell_type": "code",
   "execution_count": 12,
   "metadata": {},
   "outputs": [
    {
     "data": {
      "text/plain": [
       "[<img alt=\"\" class=\"thumbimage\" data-file-height=\"2328\" data-file-width=\"3752\" decoding=\"async\" height=\"137\" src=\"//upload.wikimedia.org/wikipedia/commons/thumb/7/75/FORTE_PR%C3%8DNCIPE_DA_BEIRA_-_Costa_Marques_%28RO%29.jpg/220px-FORTE_PR%C3%8DNCIPE_DA_BEIRA_-_Costa_Marques_%28RO%29.jpg\" srcset=\"//upload.wikimedia.org/wikipedia/commons/thumb/7/75/FORTE_PR%C3%8DNCIPE_DA_BEIRA_-_Costa_Marques_%28RO%29.jpg/330px-FORTE_PR%C3%8DNCIPE_DA_BEIRA_-_Costa_Marques_%28RO%29.jpg 1.5x, //upload.wikimedia.org/wikipedia/commons/thumb/7/75/FORTE_PR%C3%8DNCIPE_DA_BEIRA_-_Costa_Marques_%28RO%29.jpg/440px-FORTE_PR%C3%8DNCIPE_DA_BEIRA_-_Costa_Marques_%28RO%29.jpg 2x\" width=\"220\"/>,\n",
       " <img alt=\"\" class=\"thumbimage\" data-file-height=\"959\" data-file-width=\"1314\" decoding=\"async\" height=\"161\" src=\"//upload.wikimedia.org/wikipedia/commons/thumb/a/a2/Esta%C3%A7%C3%A3o_inicial_da_Ferrovia_Madeira-Mamor%C3%A9%2C_Porto_Velho.png/220px-Esta%C3%A7%C3%A3o_inicial_da_Ferrovia_Madeira-Mamor%C3%A9%2C_Porto_Velho.png\" srcset=\"//upload.wikimedia.org/wikipedia/commons/thumb/a/a2/Esta%C3%A7%C3%A3o_inicial_da_Ferrovia_Madeira-Mamor%C3%A9%2C_Porto_Velho.png/330px-Esta%C3%A7%C3%A3o_inicial_da_Ferrovia_Madeira-Mamor%C3%A9%2C_Porto_Velho.png 1.5x, //upload.wikimedia.org/wikipedia/commons/thumb/a/a2/Esta%C3%A7%C3%A3o_inicial_da_Ferrovia_Madeira-Mamor%C3%A9%2C_Porto_Velho.png/440px-Esta%C3%A7%C3%A3o_inicial_da_Ferrovia_Madeira-Mamor%C3%A9%2C_Porto_Velho.png 2x\" width=\"220\"/>,\n",
       " <img alt=\"\" class=\"thumbimage\" data-file-height=\"3385\" data-file-width=\"4906\" decoding=\"async\" height=\"152\" src=\"//upload.wikimedia.org/wikipedia/commons/thumb/6/66/Autoridades_em_Visita_ao_Trecho_Conclu%C3%ADdo_da_Ferrovia_Madeira-Mamor%C3%A9_-_582%2C_Acervo_do_Museu_Paulista_da_USP_%28cropped%29.jpg/220px-Autoridades_em_Visita_ao_Trecho_Conclu%C3%ADdo_da_Ferrovia_Madeira-Mamor%C3%A9_-_582%2C_Acervo_do_Museu_Paulista_da_USP_%28cropped%29.jpg\" srcset=\"//upload.wikimedia.org/wikipedia/commons/thumb/6/66/Autoridades_em_Visita_ao_Trecho_Conclu%C3%ADdo_da_Ferrovia_Madeira-Mamor%C3%A9_-_582%2C_Acervo_do_Museu_Paulista_da_USP_%28cropped%29.jpg/330px-Autoridades_em_Visita_ao_Trecho_Conclu%C3%ADdo_da_Ferrovia_Madeira-Mamor%C3%A9_-_582%2C_Acervo_do_Museu_Paulista_da_USP_%28cropped%29.jpg 1.5x, //upload.wikimedia.org/wikipedia/commons/thumb/6/66/Autoridades_em_Visita_ao_Trecho_Conclu%C3%ADdo_da_Ferrovia_Madeira-Mamor%C3%A9_-_582%2C_Acervo_do_Museu_Paulista_da_USP_%28cropped%29.jpg/440px-Autoridades_em_Visita_ao_Trecho_Conclu%C3%ADdo_da_Ferrovia_Madeira-Mamor%C3%A9_-_582%2C_Acervo_do_Museu_Paulista_da_USP_%28cropped%29.jpg 2x\" width=\"220\"/>]"
      ]
     },
     "execution_count": 12,
     "metadata": {},
     "output_type": "execute_result"
    }
   ],
   "source": [
    "selector = '.thumbimage'\n",
    "soup.select(selector, limit=3)"
   ]
  }
 ],
 "metadata": {
  "kernelspec": {
   "display_name": "Python 3",
   "language": "python",
   "name": "python3"
  },
  "language_info": {
   "codemirror_mode": {
    "name": "ipython",
    "version": 3
   },
   "file_extension": ".py",
   "mimetype": "text/x-python",
   "name": "python",
   "nbconvert_exporter": "python",
   "pygments_lexer": "ipython3",
   "version": "3.7.6"
  }
 },
 "nbformat": 4,
 "nbformat_minor": 4
}
