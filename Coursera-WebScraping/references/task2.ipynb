{
 "cells": [
  {
   "cell_type": "markdown",
   "metadata": {},
   "source": [
    "# Access elements and attributes inside HTML pages\n",
    "\n",
    "Reference notebook for the second task of the Web Scraping with Python and BeautifulSoup on Coursera.\n",
    "\n",
    "Instructor: Danilo Lessa Bernardineli (https://danlessa.github.io/)"
   ]
  },
  {
   "cell_type": "code",
   "execution_count": 1,
   "metadata": {},
   "outputs": [],
   "source": [
    "import requests as req\n",
    "from bs4 import BeautifulSoup"
   ]
  },
  {
   "cell_type": "code",
   "execution_count": 2,
   "metadata": {},
   "outputs": [],
   "source": [
    "URL = 'https://pt.wikipedia.org/wiki/Ariquemes'\n",
    "r = req.get(URL)\n",
    "soup = BeautifulSoup(r.content)"
   ]
  },
  {
   "cell_type": "code",
   "execution_count": 39,
   "metadata": {},
   "outputs": [
    {
     "data": {
      "text/plain": [
       "'<!DOCTYPE html>\\n<html class=\"client-nojs\" dir=\"ltr\" lang=\"pt\">\\n <head>\\n  <meta charset=\"utf-8\"/>\\n  <title>\\n   Ariquemes – Wikipédia, a enciclopédia livre\\n  </title>\\n  <script>\\n   document.documentElement.className=\"client-js\";RLCONF={\"wgBreakFrames\":!1,\"wgSeparatorTransformTable\":[\",\\\\t.\",\"\\xa0\\\\t,\"],\"wgDigitTransformTable\":[\"\",\"\"],\"wgDefaultDateFormat\":\"dmy\",\"wgMonthNames\":[\"\",\"janeiro\",\"fevereiro\",\"março\",\"abril\",\"maio\",\"junho\",\"julho\",\"agosto\",\"setembro\",\"outubro\",\"novembro\",\"dezembro\"],\"wgRequestId\":\"39c9a4b6-0c0e-48f5-b003-be301fe78bcd\",\"wgCSPNonce\":!1,\"wgCanonicalNamespace\":\"\",\"wgCanonicalSpecialPageName\":!1,\"wgNamespaceNumber\":0,\"wgPageName\":\"Ariquemes\",\"wgTitle\":\"Ariquemes\",\"wgCurRevisionId\":59047204,\"wgRevisionId\":59047204,\"wgArticleId\":33863,\"wgIsArticle\":!0,\"wgIsRedirect\":!1,\"wgAction\":\"view\",\"wgUserName\":null,\"wgUserGroups\":[\"*\"],\"wgCategories\":[\"!Páginas com erros em referências\",\"!Páginas com citações sem título\",\"!Páginas com citações e URLs vazios\",\"!Imagem local diferente d'"
      ]
     },
     "execution_count": 39,
     "metadata": {},
     "output_type": "execute_result"
    }
   ],
   "source": [
    "soup.prettify()[:1000]"
   ]
  },
  {
   "cell_type": "code",
   "execution_count": 7,
   "metadata": {},
   "outputs": [
    {
     "name": "stdout",
     "output_type": "stream",
     "text": [
      "<h1 class=\"firstHeading\" id=\"firstHeading\" lang=\"pt\">Ariquemes</h1>\n"
     ]
    }
   ],
   "source": [
    "title = soup.h1\n",
    "print(title)"
   ]
  },
  {
   "cell_type": "code",
   "execution_count": 43,
   "metadata": {},
   "outputs": [
    {
     "name": "stdout",
     "output_type": "stream",
     "text": [
      "<img alt=\"Ariquemes num dia de Outono\" data-file-height=\"1938\" data-file-width=\"2584\" decoding=\"async\" height=\"225\" src=\"//upload.wikimedia.org/wikipedia/commons/thumb/e/e1/Outono_Ariquemes_-_panoramio.jpg/300px-Outono_Ariquemes_-_panoramio.jpg\" srcset=\"//upload.wikimedia.org/wikipedia/commons/thumb/e/e1/Outono_Ariquemes_-_panoramio.jpg/450px-Outono_Ariquemes_-_panoramio.jpg 1.5x, //upload.wikimedia.org/wikipedia/commons/thumb/e/e1/Outono_Ariquemes_-_panoramio.jpg/600px-Outono_Ariquemes_-_panoramio.jpg 2x\" width=\"300\"/>\n"
     ]
    }
   ],
   "source": [
    "print(soup.img)"
   ]
  },
  {
   "cell_type": "code",
   "execution_count": 41,
   "metadata": {},
   "outputs": [
    {
     "data": {
      "text/plain": [
       "'h3 h4 div ul li table img'"
      ]
     },
     "execution_count": 41,
     "metadata": {},
     "output_type": "execute_result"
    }
   ],
   "source": [
    "'h2 div ul li table'"
   ]
  },
  {
   "cell_type": "code",
   "execution_count": 45,
   "metadata": {},
   "outputs": [
    {
     "name": "stdout",
     "output_type": "stream",
     "text": [
      "//upload.wikimedia.org/wikipedia/commons/thumb/e/e1/Outono_Ariquemes_-_panoramio.jpg/300px-Outono_Ariquemes_-_panoramio.jpg\n"
     ]
    }
   ],
   "source": [
    "print(soup.img['src'])"
   ]
  },
  {
   "cell_type": "code",
   "execution_count": 46,
   "metadata": {},
   "outputs": [
    {
     "name": "stdout",
     "output_type": "stream",
     "text": [
      "Ariquemes num dia de Outono\n"
     ]
    }
   ],
   "source": [
    "print(soup.img['alt'])"
   ]
  },
  {
   "cell_type": "code",
   "execution_count": 48,
   "metadata": {},
   "outputs": [
    {
     "name": "stdout",
     "output_type": "stream",
     "text": [
      "14\n"
     ]
    }
   ],
   "source": [
    "tables = soup.find_all('table')\n",
    "print(len(tables))"
   ]
  },
  {
   "cell_type": "code",
   "execution_count": 52,
   "metadata": {},
   "outputs": [
    {
     "name": "stdout",
     "output_type": "stream",
     "text": [
      "<table style=\"border-spacing: 0; border-collapse: collapse; width:100%; background-color: #f9f9f9; color: #000\">\n",
      "<tbody><tr style=\"vertical-align:top;\">\n",
      "<td style=\"text-align:center; white-space:normal; font-weight:800; font-size:80%; line-height:105%;\"><span class=\"fn org\" style=\"font-size:130%;\">Ariquemes</span></td>\n",
      "</tr></tbody></table>\n"
     ]
    }
   ],
   "source": [
    "print(tables[1])"
   ]
  },
  {
   "cell_type": "code",
   "execution_count": 53,
   "metadata": {},
   "outputs": [
    {
     "name": "stdout",
     "output_type": "stream",
     "text": [
      "border-spacing: 0; border-collapse: collapse; width:100%; background-color: #f9f9f9; color: #000\n"
     ]
    }
   ],
   "source": [
    "print(tables[1]['style'])"
   ]
  },
  {
   "cell_type": "code",
   "execution_count": 76,
   "metadata": {},
   "outputs": [
    {
     "name": "stdout",
     "output_type": "stream",
     "text": [
      "4\n"
     ]
    }
   ],
   "source": [
    "lists = soup.find_all('li')\n",
    "childs = list(lists[3].children)\n",
    "print(len(childs))"
   ]
  },
  {
   "cell_type": "code",
   "execution_count": 77,
   "metadata": {},
   "outputs": [
    {
     "name": "stdout",
     "output_type": "stream",
     "text": [
      "[<a href=\"#Geografia\"><span class=\"tocnumber\">2</span> <span class=\"toctext\">Geografia</span></a>, '\\n', <ul>\n",
      "<li class=\"toclevel-2 tocsection-5\"><a href=\"#Hidrografia\"><span class=\"tocnumber\">2.1</span> <span class=\"toctext\">Hidrografia</span></a></li>\n",
      "<li class=\"toclevel-2 tocsection-6\"><a href=\"#Clima\"><span class=\"tocnumber\">2.2</span> <span class=\"toctext\">Clima</span></a></li>\n",
      "</ul>, '\\n']\n"
     ]
    }
   ],
   "source": [
    "print(childs)"
   ]
  },
  {
   "cell_type": "code",
   "execution_count": null,
   "metadata": {},
   "outputs": [],
   "source": []
  }
 ],
 "metadata": {
  "kernelspec": {
   "display_name": "Python 3",
   "language": "python",
   "name": "python3"
  },
  "language_info": {
   "codemirror_mode": {
    "name": "ipython",
    "version": 3
   },
   "file_extension": ".py",
   "mimetype": "text/x-python",
   "name": "python",
   "nbconvert_exporter": "python",
   "pygments_lexer": "ipython3",
   "version": "3.7.6"
  }
 },
 "nbformat": 4,
 "nbformat_minor": 4
}
